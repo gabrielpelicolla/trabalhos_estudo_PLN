{
  "nbformat": 4,
  "nbformat_minor": 0,
  "metadata": {
    "colab": {
      "provenance": [],
      "authorship_tag": "ABX9TyNH/GKXYaFI8B8x1q5VMceQ",
      "include_colab_link": true
    },
    "kernelspec": {
      "name": "python3",
      "display_name": "Python 3"
    },
    "language_info": {
      "name": "python"
    }
  },
  "cells": [
    {
      "cell_type": "markdown",
      "metadata": {
        "id": "view-in-github",
        "colab_type": "text"
      },
      "source": [
        "<a href=\"https://colab.research.google.com/github/gabrielpelicolla/trabalhos_estudo_PLN/blob/main/Lista1PLN_GabrielPelicolla.ipynb\" target=\"_parent\"><img src=\"https://colab.research.google.com/assets/colab-badge.svg\" alt=\"Open In Colab\"/></a>"
      ]
    },
    {
      "cell_type": "markdown",
      "source": [
        "#Import das Bibliotecas"
      ],
      "metadata": {
        "id": "f8F9uj6nck4B"
      }
    },
    {
      "cell_type": "code",
      "execution_count": null,
      "metadata": {
        "colab": {
          "base_uri": "https://localhost:8080/"
        },
        "id": "WEat1CtsbuFL",
        "outputId": "61f3e569-ca1e-47e2-cf9b-22ab488b908b"
      },
      "outputs": [
        {
          "output_type": "stream",
          "name": "stdout",
          "text": [
            "Requirement already satisfied: nltk in /usr/local/lib/python3.11/dist-packages (3.7)\n",
            "Requirement already satisfied: click in /usr/local/lib/python3.11/dist-packages (from nltk) (8.2.1)\n",
            "Requirement already satisfied: joblib in /usr/local/lib/python3.11/dist-packages (from nltk) (1.5.1)\n",
            "Requirement already satisfied: regex>=2021.8.3 in /usr/local/lib/python3.11/dist-packages (from nltk) (2024.11.6)\n",
            "Requirement already satisfied: tqdm in /usr/local/lib/python3.11/dist-packages (from nltk) (4.67.1)\n"
          ]
        }
      ],
      "source": [
        "!pip install nltk\n",
        "\n"
      ]
    },
    {
      "cell_type": "code",
      "source": [
        "import nltk\n",
        "from nltk.tokenize import word_tokenize\n",
        "from nltk.corpus import stopwords\n",
        "from nltk.stem import PorterStemmer\n",
        "from nltk.stem import RSLPStemmer\n",
        "from nltk.stem import WordNetLemmatizer\n",
        "import re"
      ],
      "metadata": {
        "id": "Vmo7qSHsc4Z-"
      },
      "execution_count": null,
      "outputs": []
    },
    {
      "cell_type": "code",
      "source": [
        "nltk.download('punkt')\n",
        "nltk.download('stopwords')\n",
        "nltk.download('wordnet')\n",
        "nltk.download('omw-1.4')"
      ],
      "metadata": {
        "colab": {
          "base_uri": "https://localhost:8080/"
        },
        "id": "itUHxBNZdt3w",
        "outputId": "b6f59d65-95d2-4670-abab-a294133c2860"
      },
      "execution_count": null,
      "outputs": [
        {
          "output_type": "stream",
          "name": "stderr",
          "text": [
            "[nltk_data] Downloading package punkt to /root/nltk_data...\n",
            "[nltk_data]   Package punkt is already up-to-date!\n",
            "[nltk_data] Downloading package stopwords to /root/nltk_data...\n",
            "[nltk_data]   Package stopwords is already up-to-date!\n",
            "[nltk_data] Downloading package wordnet to /root/nltk_data...\n",
            "[nltk_data]   Package wordnet is already up-to-date!\n",
            "[nltk_data] Downloading package omw-1.4 to /root/nltk_data...\n"
          ]
        },
        {
          "output_type": "execute_result",
          "data": {
            "text/plain": [
              "True"
            ]
          },
          "metadata": {},
          "execution_count": 10
        }
      ]
    },
    {
      "cell_type": "markdown",
      "source": [
        "#1. Tokenização"
      ],
      "metadata": {
        "id": "HTd2uKA2dlQ8"
      }
    },
    {
      "cell_type": "code",
      "source": [
        "texto = \"Exemplo de frase para tokenização.\"\n",
        "tokens = word_tokenize(texto)\n",
        "print(\"Tokens:\", tokens)"
      ],
      "metadata": {
        "colab": {
          "base_uri": "https://localhost:8080/"
        },
        "id": "cxWDImPGdKw_",
        "outputId": "855724f2-03d2-4f51-ab7e-09483631ca54"
      },
      "execution_count": null,
      "outputs": [
        {
          "output_type": "stream",
          "name": "stdout",
          "text": [
            "Tokens: ['Exemplo', 'de', 'frase', 'para', 'tokenização', '.']\n"
          ]
        }
      ]
    },
    {
      "cell_type": "markdown",
      "source": [
        "#2. Remoção de Stopwords"
      ],
      "metadata": {
        "id": "EofluU8Rd04h"
      }
    },
    {
      "cell_type": "code",
      "source": [
        "texto = \"Exemplo de frase com algumas stopwords.\"\n",
        "stop_words = set(stopwords.words('portuguese')) # Define o idioma para português\n",
        "tokens = word_tokenize(texto)\n",
        "tokens_sem_stopwords = [palavra for palavra in tokens if palavra.lower() not in stop_words]\n",
        "print(\"Tokens sem stopwords:\", tokens_sem_stopwords)"
      ],
      "metadata": {
        "colab": {
          "base_uri": "https://localhost:8080/"
        },
        "id": "1S74R9Oid7JW",
        "outputId": "44301600-890c-4fd9-a964-f67892ceb952"
      },
      "execution_count": null,
      "outputs": [
        {
          "output_type": "stream",
          "name": "stdout",
          "text": [
            "Tokens sem stopwords: ['Exemplo', 'frase', 'algumas', 'stopwords', '.']\n"
          ]
        }
      ]
    },
    {
      "cell_type": "markdown",
      "source": [
        "#3. Stemming"
      ],
      "metadata": {
        "id": "NNjqjMt-eB6G"
      }
    },
    {
      "cell_type": "code",
      "source": [
        "texto = \"Correndo, correu, correr.\"\n",
        "stemmer = RSLPStemmer()\n",
        "tokens = word_tokenize(texto)\n",
        "stems = [stemmer.stem(palavra) for palavra in tokens]\n",
        "print(\"Stems:\", stems)\n"
      ],
      "metadata": {
        "colab": {
          "base_uri": "https://localhost:8080/"
        },
        "id": "3s4yeiN4eFsN",
        "outputId": "6ed88ced-d4db-4f4f-940c-6e84f633930a"
      },
      "execution_count": null,
      "outputs": [
        {
          "output_type": "stream",
          "name": "stdout",
          "text": [
            "Stems: ['corr', ',', 'corr', ',', 'corr', '.']\n"
          ]
        }
      ]
    },
    {
      "cell_type": "markdown",
      "source": [
        "#4. Lematização"
      ],
      "metadata": {
        "id": "53AuIUG5eM1E"
      }
    },
    {
      "cell_type": "code",
      "source": [
        "lemmatizer = WordNetLemmatizer()\n",
        "\n",
        "texto = \"Correndo, correu, correr.\"\n",
        "tokens = word_tokenize(texto)\n",
        "lemas = [lemmatizer.lemmatize(palavra, pos='v') for palavra in tokens] # pos='v' para verbos\n",
        "print(\"Lemas:\", lemas)"
      ],
      "metadata": {
        "colab": {
          "base_uri": "https://localhost:8080/"
        },
        "id": "2k2mltrAeOOa",
        "outputId": "39ba2336-8d65-4f23-c195-4a93e15f9535"
      },
      "execution_count": null,
      "outputs": [
        {
          "output_type": "stream",
          "name": "stdout",
          "text": [
            "Lemas: ['Correndo', ',', 'correu', ',', 'correr', '.']\n"
          ]
        }
      ]
    },
    {
      "cell_type": "markdown",
      "source": [
        "#5. Normalização\n",
        "\n"
      ],
      "metadata": {
        "id": "m4WMxb6Oeu0W"
      }
    },
    {
      "cell_type": "code",
      "source": [
        "texto = \"Exemplo de Normalização com Pontuação! e Caracteres Especiais?\"\n",
        "\n",
        "# Converter para minúsculas\n",
        "texto_minusculo = texto.lower()\n",
        "\n",
        "# Remover pontuações e caracteres especiais (mantém letras e espaços)\n",
        "texto_normalizado = re.sub(r'[^a-záàâãéêíóôõúç\\s]', '', texto_minusculo)\n",
        "\n",
        "print(\"Texto Original:\", texto)\n",
        "print(\"Texto Normalizado:\", texto_normalizado)"
      ],
      "metadata": {
        "id": "6RBsmCYKewUs",
        "outputId": "81bf94fa-f165-47aa-f2ea-d061f4975789",
        "colab": {
          "base_uri": "https://localhost:8080/"
        }
      },
      "execution_count": null,
      "outputs": [
        {
          "output_type": "stream",
          "name": "stdout",
          "text": [
            "Texto Original: Exemplo de Normalização com Pontuação! e Caracteres Especiais?\n",
            "Texto Normalizado: exemplo de normalização com pontuação e caracteres especiais\n"
          ]
        }
      ]
    }
  ]
}